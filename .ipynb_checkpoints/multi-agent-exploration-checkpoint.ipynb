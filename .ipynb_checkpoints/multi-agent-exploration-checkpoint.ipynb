{
 "cells": [
  {
   "cell_type": "code",
   "execution_count": 2,
   "metadata": {},
   "outputs": [],
   "source": [
    "import copy\n",
    "\n",
    "import numpy as np\n",
    "\n",
    "from cv2 import cv2\n",
    "from config.Config import Config\n",
    "from mapping.mapper import Mapper\n",
    "from agent.agent_handler import AgentHandler\n",
    "from region_assignment.k_mean_clustring import KMeanClustring\n",
    "from region_assignment.hungarian_region_assignment import HungarianRegionAssignment\n",
    "from occupancy_grid_generator.occupancy_grid_generator import OccupancyGridGenerator"
   ]
  },
  {
   "cell_type": "markdown",
   "metadata": {},
   "source": [
    "# OCCUPANCY GRID GENERATOR"
   ]
  },
  {
   "cell_type": "code",
   "execution_count": 3,
   "metadata": {},
   "outputs": [],
   "source": [
    "occupancy_grid = OccupancyGridGenerator()\n",
    "\n",
    "occupancy_grid.generate_occupancy_grid()\n",
    "\n",
    "# occupancy_grid.show_occupancy_grid_without_obs()\n",
    "# occupancy_grid.show_occupancy_grid_with_obs()\n",
    "\n",
    "temp_occupancy_grid_without_obs = occupancy_grid.get_occupancy_grid_without_obs()\n",
    "temp_occupancy_grid_with_obs = occupancy_grid.get_occupancy_grid_with_obs()"
   ]
  },
  {
   "cell_type": "markdown",
   "metadata": {},
   "source": [
    "# K-MEAN-CLUSTRING"
   ]
  },
  {
   "cell_type": "code",
   "execution_count": 4,
   "metadata": {},
   "outputs": [],
   "source": [
    "regions = KMeanClustring(temp_occupancy_grid_without_obs)\n",
    "\n",
    "regions.find_regions()\n",
    "\n",
    "temp_regions_xy_points = regions.get_regions_xy_points()\n",
    "temp_region_centroids = regions.get_centroids()\n",
    "temp_color_map = regions.get_color_map()\n",
    "temp_grid_with_regions = copy.copy(regions.get_grid_with_regions())"
   ]
  },
  {
   "cell_type": "code",
   "execution_count": 5,
   "metadata": {},
   "outputs": [
    {
     "name": "stdout",
     "output_type": "stream",
     "text": [
      "Region centroids:\n",
      " [[786 306]\n",
      " [238 306]\n",
      " [513 306]]\n",
      "Region color map:\n",
      " [[147, 142, 238], [10, 173, 13], [177, 128, 179]]\n"
     ]
    }
   ],
   "source": [
    "# regions.show_regions_with_centroids()\n",
    "# regions.show_regions()\n",
    "\n",
    "# ind = 0\n",
    "# for el in temp_regions_xy_points:\n",
    "#     print(\"Region\", ind, \"indices:\", el)\n",
    "#     ind += 1\n",
    "print(\"Region centroids:\\n\", temp_region_centroids)\n",
    "print(\"Region color map:\\n\", temp_color_map)"
   ]
  },
  {
   "cell_type": "markdown",
   "metadata": {},
   "source": [
    "# AGENT HANDLER"
   ]
  },
  {
   "cell_type": "code",
   "execution_count": 28,
   "metadata": {},
   "outputs": [],
   "source": [
    "agenthandler = AgentHandler()"
   ]
  },
  {
   "cell_type": "markdown",
   "metadata": {},
   "source": [
    "# REGION ASSIGNMENT"
   ]
  },
  {
   "cell_type": "code",
   "execution_count": 29,
   "metadata": {},
   "outputs": [
    {
     "name": "stdout",
     "output_type": "stream",
     "text": [
      "Agent Positions:\n",
      "[694  58]\n",
      "[467 556]\n",
      "[330  48]\n"
     ]
    }
   ],
   "source": [
    "cost_matrix = np.zeros(shape=[Config.NO_OF_AGENTS, Config.NO_OF_AGENTS])\n",
    "\n",
    "print(\"Agent Positions:\")\n",
    "\n",
    "for i in range(Config.NO_OF_AGENTS):\n",
    "    temp_agent_pos = agenthandler.get_pos_of_agent(i)\n",
    "    a = np.array([temp_agent_pos['x'], temp_agent_pos['y']])\n",
    "    print(a)\n",
    "    for j in range(len(temp_region_centroids)):\n",
    "        b = np.array(temp_region_centroids[j])\n",
    "        cost_matrix[i,j] = np.linalg.norm(a-b)"
   ]
  },
  {
   "cell_type": "code",
   "execution_count": 30,
   "metadata": {},
   "outputs": [
    {
     "data": {
      "text/plain": [
       "array([[264.51464988, 519.07610232, 307.02605753],\n",
       "       [405.2912533 , 339.02949724, 254.19677417],\n",
       "       [523.9274759 , 273.91239475, 316.31155527]])"
      ]
     },
     "execution_count": 30,
     "metadata": {},
     "output_type": "execute_result"
    }
   ],
   "source": [
    "cost_matrix"
   ]
  },
  {
   "cell_type": "code",
   "execution_count": 31,
   "metadata": {},
   "outputs": [
    {
     "name": "stdout",
     "output_type": "stream",
     "text": [
      "[0 1 2] [0 2 1]\n",
      "792.6238188051626\n"
     ]
    }
   ],
   "source": [
    "hungaian_region_assignment = HungarianRegionAssignment(cost_matrix, temp_grid_with_regions)\n",
    "\n",
    "hungaian_region_assignment.find_regions()\n",
    "temp_regions_rows, temp_regions_cols = hungaian_region_assignment.get_regions()\n",
    "print(temp_regions_rows, temp_regions_cols)\n",
    "print(hungaian_region_assignment.get_total_cost())"
   ]
  },
  {
   "cell_type": "code",
   "execution_count": 32,
   "metadata": {},
   "outputs": [],
   "source": [
    "hungaian_region_assignment.show_assigned_regions(agenthandler, temp_region_centroids)"
   ]
  },
  {
   "cell_type": "code",
   "execution_count": 33,
   "metadata": {},
   "outputs": [
    {
     "name": "stdout",
     "output_type": "stream",
     "text": [
      "Region centroids:\n",
      "\n",
      "\tRegion: 1 , x: 786 , y: 306\n",
      "\tRegion: 2 , x: 238 , y: 306\n",
      "\tRegion: 3 , x: 513 , y: 306\n",
      "\n",
      "Agent Positions:\n",
      "\n",
      "\tAgent: 1 , x: 694 , y: 58\n",
      "\tAgent: 2 , x: 467 , y: 556\n",
      "\tAgent: 3 , x: 330 , y: 48\n",
      "\n",
      "Cost Matrix:\n",
      "\n",
      " [[264.51464988 519.07610232 307.02605753]\n",
      " [405.2912533  339.02949724 254.19677417]\n",
      " [523.9274759  273.91239475 316.31155527]] \n",
      "\n",
      "Region Assigned to Agent: 1 is Region 0\n",
      "Region Assigned to Agent: 2 is Region 2\n",
      "Region Assigned to Agent: 3 is Region 1\n",
      "\n",
      "Total cost: 792.6238188051626\n"
     ]
    }
   ],
   "source": [
    "print(\"Region centroids:\\n\")\n",
    "ind = 1\n",
    "for el in temp_region_centroids:\n",
    "    print(\"\\tRegion:\", ind, \", x:\", el[0], \", y:\", el[1])\n",
    "    ind += 1\n",
    "    \n",
    "print(\"\\nAgent Positions:\\n\")\n",
    "\n",
    "for i in range(Config.NO_OF_AGENTS):\n",
    "    temp_agent_pos = agenthandler.get_pos_of_agent(i)\n",
    "    print(\"\\tAgent:\", i+1, \", x:\", temp_agent_pos['x'], \", y:\", temp_agent_pos['y'])\n",
    "    \n",
    "print(\"\\nCost Matrix:\\n\\n\", cost_matrix, \"\\n\")\n",
    "\n",
    "ind = 1\n",
    "for el in temp_regions_cols:\n",
    "    print(\"Region Assigned to Agent: {} is Region {}\".format(ind, el))\n",
    "    ind += 1\n",
    "    \n",
    "print(\"\\nTotal cost:\", hungaian_region_assignment.get_total_cost())"
   ]
  },
  {
   "cell_type": "markdown",
   "metadata": {},
   "source": [
    "# GRID MAPPER"
   ]
  },
  {
   "cell_type": "code",
   "execution_count": 27,
   "metadata": {},
   "outputs": [],
   "source": [
    "grid_mapper = Mapper(global_grid=temp_occupancy_grid_with_obs)\n",
    "\n",
    "display = copy.copy(temp_occupancy_grid_with_obs)\n",
    "font = cv2.FONT_HERSHEY_SIMPLEX\n",
    "\n",
    "while(1):\n",
    "\n",
    "    display = copy.copy(temp_occupancy_grid_with_obs)\n",
    "\n",
    "    for i in range(Config.NO_OF_AGENTS):\n",
    "\n",
    "        temp_pos = agenthandler.get_pos_of_agent(i)\n",
    "\n",
    "        temp_pos_x = temp_pos['x']\n",
    "        temp_pos_y = temp_pos['y']\n",
    "\n",
    "        if i == 0:\n",
    "            color_b,color_g,color_r = 255,0,0\n",
    "        elif i == 1:\n",
    "            color_b,color_g,color_r = 0,255,0\n",
    "        else:\n",
    "            color_b,color_g,color_r = 0,0,255\n",
    "\n",
    "        cv2.circle(temp_occupancy_grid_with_obs, (temp_pos_x, temp_pos_y), 1, (color_b,color_g,color_r), -1)\n",
    "\n",
    "        img = cv2.ellipse(display,(temp_pos_x,temp_pos_y),(10,10),0,15,345,(color_b,color_g,color_r),-1)\n",
    "\n",
    "        grid_mapper.map_grid(agent_no=i, agent_pos=temp_pos)\n",
    "    \n",
    "    temp_img = cv2.resize(img, (512, 512))\n",
    "\n",
    "    mapped_grid = grid_mapper.get_mapped_grid()\n",
    "    \n",
    "    temp_mapped_img = cv2.resize(mapped_grid, (512, 512))\n",
    "\n",
    "    numpy_horizontal = np.hstack((temp_img, temp_mapped_img))\n",
    "\n",
    "    cv2.imshow('image', numpy_horizontal)\n",
    "    k = cv2.waitKey(1) & 0xFF\n",
    "\n",
    "    if k == ord('q'):\n",
    "        break\n",
    "    if k == ord('1'):\n",
    "        agent_number = 0\n",
    "    if k == ord('2'):\n",
    "        agent_number = 1\n",
    "    if k == ord('3'):\n",
    "        agent_number = 2\n",
    "    if k == ord('w'):\n",
    "        agenthandler.move_agent(agent_number, 0, -5)\n",
    "    if k == ord('s'):\n",
    "        agenthandler.move_agent(agent_number, 0, 5)\n",
    "    if k == ord('a'):\n",
    "        agenthandler.move_agent(agent_number, -5, 0)\n",
    "    if k == ord('d'):\n",
    "        agenthandler.move_agent(agent_number, 5, 0)\n",
    "\n",
    "\n",
    "cv2.destroyAllWindows()\n",
    "# grid_mapper.show_mapped_grid()\n",
    "\n",
    "# cv2.imshow('Occupancy_grid',img)\n",
    "# cv2.waitKey(0)\n",
    "# cv2.destroyAllWindows()"
   ]
  },
  {
   "cell_type": "code",
   "execution_count": 25,
   "metadata": {},
   "outputs": [],
   "source": [
    "# black_img = np.zeros(shape=[512,512,3], dtype=np.uint8)\n",
    "# font = cv2.FONT_HERSHEY_SIMPLEX\n",
    "# img = cv2.putText(black_img,'OpenCV',(10,500), font, 4,(255,255,255),2,cv2.LINE_AA)\n",
    "\n",
    "# cv2.imshow('Ellipse', img)\n",
    "\n",
    "# cv2.waitKey(0)\n",
    "# cv2.destroyAllWindows()"
   ]
  },
  {
   "cell_type": "code",
   "execution_count": null,
   "metadata": {},
   "outputs": [],
   "source": []
  }
 ],
 "metadata": {
  "kernelspec": {
   "display_name": "Python 3",
   "language": "python",
   "name": "python3"
  },
  "language_info": {
   "codemirror_mode": {
    "name": "ipython",
    "version": 3
   },
   "file_extension": ".py",
   "mimetype": "text/x-python",
   "name": "python",
   "nbconvert_exporter": "python",
   "pygments_lexer": "ipython3",
   "version": "3.7.5"
  }
 },
 "nbformat": 4,
 "nbformat_minor": 2
}
